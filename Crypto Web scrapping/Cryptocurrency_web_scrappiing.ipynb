{
  "nbformat": 4,
  "nbformat_minor": 0,
  "metadata": {
    "colab": {
      "name": "Cryptocurrency web scrappiing.ipynb",
      "provenance": [],
      "collapsed_sections": []
    },
    "kernelspec": {
      "name": "python3",
      "display_name": "Python 3"
    },
    "language_info": {
      "name": "python"
    }
  },
  "cells": [
    {
      "cell_type": "code",
      "metadata": {
        "id": "slTt06JSKPFg"
      },
      "source": [
        "import pandas as pd\n",
        "from bs4 import BeautifulSoup\n",
        "import requests"
      ],
      "execution_count": 2,
      "outputs": []
    },
    {
      "cell_type": "code",
      "metadata": {
        "id": "H3I-AtEaKahX"
      },
      "source": [
        "website = 'https://www.coingecko.com'\n",
        "response = requests.get(website)\n",
        "soup = BeautifulSoup(response.content, 'html.parser')"
      ],
      "execution_count": 3,
      "outputs": []
    },
    {
      "cell_type": "code",
      "metadata": {
        "colab": {
          "base_uri": "https://localhost:8080/",
          "height": 183
        },
        "id": "vf0rNUO4Kzar",
        "outputId": "65190375-1d11-499d-cfea-000d47ec1bb4"
      },
      "source": [
        "results = soup.find('table', class_='table-scrollable').find('tbody').find_all('tr')\n",
        "len(result)"
      ],
      "execution_count": 4,
      "outputs": [
        {
          "output_type": "error",
          "ename": "NameError",
          "evalue": "ignored",
          "traceback": [
            "\u001b[0;31m---------------------------------------------------------------------------\u001b[0m",
            "\u001b[0;31mNameError\u001b[0m                                 Traceback (most recent call last)",
            "\u001b[0;32m<ipython-input-4-dfa09931390b>\u001b[0m in \u001b[0;36m<module>\u001b[0;34m()\u001b[0m\n\u001b[1;32m      1\u001b[0m \u001b[0mresults\u001b[0m \u001b[0;34m=\u001b[0m \u001b[0msoup\u001b[0m\u001b[0;34m.\u001b[0m\u001b[0mfind\u001b[0m\u001b[0;34m(\u001b[0m\u001b[0;34m'table'\u001b[0m\u001b[0;34m,\u001b[0m \u001b[0mclass_\u001b[0m\u001b[0;34m=\u001b[0m\u001b[0;34m'table-scrollable'\u001b[0m\u001b[0;34m)\u001b[0m\u001b[0;34m.\u001b[0m\u001b[0mfind\u001b[0m\u001b[0;34m(\u001b[0m\u001b[0;34m'tbody'\u001b[0m\u001b[0;34m)\u001b[0m\u001b[0;34m.\u001b[0m\u001b[0mfind_all\u001b[0m\u001b[0;34m(\u001b[0m\u001b[0;34m'tr'\u001b[0m\u001b[0;34m)\u001b[0m\u001b[0;34m\u001b[0m\u001b[0;34m\u001b[0m\u001b[0m\n\u001b[0;32m----> 2\u001b[0;31m \u001b[0mlen\u001b[0m\u001b[0;34m(\u001b[0m\u001b[0mresult\u001b[0m\u001b[0;34m)\u001b[0m\u001b[0;34m\u001b[0m\u001b[0;34m\u001b[0m\u001b[0m\n\u001b[0m",
            "\u001b[0;31mNameError\u001b[0m: name 'result' is not defined"
          ]
        }
      ]
    },
    {
      "cell_type": "code",
      "metadata": {
        "colab": {
          "base_uri": "https://localhost:8080/",
          "height": 35
        },
        "id": "5pH0OOPWMbbo",
        "outputId": "bd73e778-b2a1-4959-ca33-4342500749bb"
      },
      "source": [
        "results[0].find('td',class_='coin-name').get_text().strip()\n",
        "results[0].find('td', class_='td-price').get_text().strip()\n",
        "results[0].find('td', class_='td-change24h').get_text().strip()\n",
        "results[0].find('td', class_='td-change7d').get_text().strip()\n",
        "results[0].find('td', class_='td-liquidity_score').get_text().strip()\n",
        "results[0].find('td', class_='td-market_cap').get_text().strip()"
      ],
      "execution_count": 5,
      "outputs": [
        {
          "output_type": "execute_result",
          "data": {
            "application/vnd.google.colaboratory.intrinsic+json": {
              "type": "string"
            },
            "text/plain": [
              "'$1,088,111,501,425'"
            ]
          },
          "metadata": {},
          "execution_count": 5
        }
      ]
    },
    {
      "cell_type": "code",
      "metadata": {
        "id": "TgigBPnvOkzU"
      },
      "source": [
        "name = []\n",
        "price = []\n",
        "change_24h = []\n",
        "change_7d = []\n",
        "market_cap = []\n",
        "volume_24h = []\n",
        "\n",
        "for i in range(1,12):\n",
        "  website = 'https://www.coingecko.com/en?page=' + str(i)\n",
        "  response = requests.get(website)\n",
        "  soup = BeautifulSoup(response.content, 'html.parser')\n",
        "  results = soup.find('table', class_='table-scrollable').find('tbody').find_all('tr')\n",
        "\n",
        "\n",
        "  for result in results:\n",
        "    try:\n",
        "      name.append(result.find('td',class_='coin-name').get_text().strip())\n",
        "\n",
        "      price.append(result.find('td', class_='td-price').get_text().strip())\n",
        "      change_24h.append(result.find('td', class_='td-change24h').get_text().strip())\n",
        "      change_7d.append(result.find('td', class_='td-change7d').get_text().strip())\n",
        "      volume_24h.append(result.find('td', class_='td-liquidity_score').get_text().strip())\n",
        "      market_cap.append(result.find('td', class_='td-market_cap').get_text().strip())\n",
        "    except:\n",
        "      name.append('na')\n",
        "      price.append('na')\n",
        "      change_24h.append('na')\n",
        "      change_7d.append('na')\n",
        "      volume_24h.append('na')\n",
        "      market_cap.append('na')\n",
        "df = pd.DataFrame({'Name':name, 'Price':price,'24H':change_24h, '7D':change_7d, '24H Volume':volume_24h, 'Market Cap':market_cap})\n",
        "\n"
      ],
      "execution_count": 7,
      "outputs": []
    },
    {
      "cell_type": "code",
      "metadata": {
        "colab": {
          "base_uri": "https://localhost:8080/",
          "height": 206
        },
        "id": "dwop-4eKP6TU",
        "outputId": "5f2d57a3-ed12-4631-80e0-a9ce55488205"
      },
      "source": [
        "df.head()"
      ],
      "execution_count": 9,
      "outputs": [
        {
          "output_type": "execute_result",
          "data": {
            "text/html": [
              "<div>\n",
              "<style scoped>\n",
              "    .dataframe tbody tr th:only-of-type {\n",
              "        vertical-align: middle;\n",
              "    }\n",
              "\n",
              "    .dataframe tbody tr th {\n",
              "        vertical-align: top;\n",
              "    }\n",
              "\n",
              "    .dataframe thead th {\n",
              "        text-align: right;\n",
              "    }\n",
              "</style>\n",
              "<table border=\"1\" class=\"dataframe\">\n",
              "  <thead>\n",
              "    <tr style=\"text-align: right;\">\n",
              "      <th></th>\n",
              "      <th>Name</th>\n",
              "      <th>Price</th>\n",
              "      <th>24H</th>\n",
              "      <th>7D</th>\n",
              "      <th>24H Volume</th>\n",
              "      <th>Market Cap</th>\n",
              "    </tr>\n",
              "  </thead>\n",
              "  <tbody>\n",
              "    <tr>\n",
              "      <th>0</th>\n",
              "      <td>Bitcoin\\n \\nBTC\\n \\nBTC</td>\n",
              "      <td>$57,571</td>\n",
              "      <td>-5.4%</td>\n",
              "      <td>-11.5%</td>\n",
              "      <td>$37,662,015,161</td>\n",
              "      <td>$1,088,111,501,425</td>\n",
              "    </tr>\n",
              "    <tr>\n",
              "      <th>1</th>\n",
              "      <td>Ethereum\\n \\nETH\\n \\nETH</td>\n",
              "      <td>$4,026.91</td>\n",
              "      <td>-5.6%</td>\n",
              "      <td>-13.2%</td>\n",
              "      <td>$20,896,466,609</td>\n",
              "      <td>$476,232,192,959</td>\n",
              "    </tr>\n",
              "    <tr>\n",
              "      <th>2</th>\n",
              "      <td>Binance Coin\\n \\nBNB\\n \\nBNB</td>\n",
              "      <td>$535.75</td>\n",
              "      <td>-7.9%</td>\n",
              "      <td>-12.4%</td>\n",
              "      <td>$2,581,912,893</td>\n",
              "      <td>$91,089,787,975</td>\n",
              "    </tr>\n",
              "    <tr>\n",
              "      <th>3</th>\n",
              "      <td>Tether\\n \\nUSDT\\n \\nUSDT</td>\n",
              "      <td>$1.00</td>\n",
              "      <td>-1.1%</td>\n",
              "      <td>-0.4%</td>\n",
              "      <td>$76,328,053,878</td>\n",
              "      <td>$74,416,327,702</td>\n",
              "    </tr>\n",
              "    <tr>\n",
              "      <th>4</th>\n",
              "      <td>Solana\\n \\nSOL\\n \\nSOL</td>\n",
              "      <td>$193.76</td>\n",
              "      <td>-10.8%</td>\n",
              "      <td>-16.9%</td>\n",
              "      <td>$3,029,058,596</td>\n",
              "      <td>$58,798,159,381</td>\n",
              "    </tr>\n",
              "  </tbody>\n",
              "</table>\n",
              "</div>"
            ],
            "text/plain": [
              "                           Name      Price  ...       24H Volume          Market Cap\n",
              "0       Bitcoin\\n \\nBTC\\n \\nBTC    $57,571  ...  $37,662,015,161  $1,088,111,501,425\n",
              "1      Ethereum\\n \\nETH\\n \\nETH  $4,026.91  ...  $20,896,466,609    $476,232,192,959\n",
              "2  Binance Coin\\n \\nBNB\\n \\nBNB    $535.75  ...   $2,581,912,893     $91,089,787,975\n",
              "3      Tether\\n \\nUSDT\\n \\nUSDT      $1.00  ...  $76,328,053,878     $74,416,327,702\n",
              "4        Solana\\n \\nSOL\\n \\nSOL    $193.76  ...   $3,029,058,596     $58,798,159,381\n",
              "\n",
              "[5 rows x 6 columns]"
            ]
          },
          "metadata": {},
          "execution_count": 9
        }
      ]
    },
    {
      "cell_type": "code",
      "metadata": {
        "colab": {
          "base_uri": "https://localhost:8080/",
          "height": 206
        },
        "id": "eHLUwKMeXBJx",
        "outputId": "47e7f55e-b353-48a5-e4eb-617548fc8d37"
      },
      "source": [
        "df.tail()"
      ],
      "execution_count": 10,
      "outputs": [
        {
          "output_type": "execute_result",
          "data": {
            "text/html": [
              "<div>\n",
              "<style scoped>\n",
              "    .dataframe tbody tr th:only-of-type {\n",
              "        vertical-align: middle;\n",
              "    }\n",
              "\n",
              "    .dataframe tbody tr th {\n",
              "        vertical-align: top;\n",
              "    }\n",
              "\n",
              "    .dataframe thead th {\n",
              "        text-align: right;\n",
              "    }\n",
              "</style>\n",
              "<table border=\"1\" class=\"dataframe\">\n",
              "  <thead>\n",
              "    <tr style=\"text-align: right;\">\n",
              "      <th></th>\n",
              "      <th>Name</th>\n",
              "      <th>Price</th>\n",
              "      <th>24H</th>\n",
              "      <th>7D</th>\n",
              "      <th>24H Volume</th>\n",
              "      <th>Market Cap</th>\n",
              "    </tr>\n",
              "  </thead>\n",
              "  <tbody>\n",
              "    <tr>\n",
              "      <th>1095</th>\n",
              "      <td>NXT\\n \\nNXT\\n \\nNXT</td>\n",
              "      <td>$0.016257150194</td>\n",
              "      <td>-6.5%</td>\n",
              "      <td>-16.0%</td>\n",
              "      <td>$473,121</td>\n",
              "      <td>$16,273,081</td>\n",
              "    </tr>\n",
              "    <tr>\n",
              "      <th>1096</th>\n",
              "      <td>Pallapay\\n \\nPALLA\\n \\nPALLA</td>\n",
              "      <td>$0.055579235728</td>\n",
              "      <td>-4.8%</td>\n",
              "      <td>-11.6%</td>\n",
              "      <td>$590,506</td>\n",
              "      <td>$16,192,830</td>\n",
              "    </tr>\n",
              "    <tr>\n",
              "      <th>1097</th>\n",
              "      <td>Port Finance\\n \\nPORT\\n \\nPORT</td>\n",
              "      <td>$4.08</td>\n",
              "      <td>-8.0%</td>\n",
              "      <td>-33.5%</td>\n",
              "      <td>$588,815</td>\n",
              "      <td>$16,138,463</td>\n",
              "    </tr>\n",
              "    <tr>\n",
              "      <th>1098</th>\n",
              "      <td>Nash\\n \\nNEX\\n \\nNEX</td>\n",
              "      <td>$0.552683</td>\n",
              "      <td>?</td>\n",
              "      <td>?</td>\n",
              "      <td>?</td>\n",
              "      <td>$16,119,656</td>\n",
              "    </tr>\n",
              "    <tr>\n",
              "      <th>1099</th>\n",
              "      <td>Steam Exchange\\n \\nSTEAMX\\n \\nSTEAMX</td>\n",
              "      <td>$0.000159520083</td>\n",
              "      <td>-13.7%</td>\n",
              "      <td>-20.5%</td>\n",
              "      <td>$150,541</td>\n",
              "      <td>$16,060,301</td>\n",
              "    </tr>\n",
              "  </tbody>\n",
              "</table>\n",
              "</div>"
            ],
            "text/plain": [
              "                                      Name  ...   Market Cap\n",
              "1095                   NXT\\n \\nNXT\\n \\nNXT  ...  $16,273,081\n",
              "1096          Pallapay\\n \\nPALLA\\n \\nPALLA  ...  $16,192,830\n",
              "1097        Port Finance\\n \\nPORT\\n \\nPORT  ...  $16,138,463\n",
              "1098                  Nash\\n \\nNEX\\n \\nNEX  ...  $16,119,656\n",
              "1099  Steam Exchange\\n \\nSTEAMX\\n \\nSTEAMX  ...  $16,060,301\n",
              "\n",
              "[5 rows x 6 columns]"
            ]
          },
          "metadata": {},
          "execution_count": 10
        }
      ]
    },
    {
      "cell_type": "code",
      "metadata": {
        "id": "XdsKEIuOXERN"
      },
      "source": [
        "df.to_excel('crypto.xlsx', index=False)"
      ],
      "execution_count": 11,
      "outputs": []
    },
    {
      "cell_type": "code",
      "metadata": {
        "colab": {
          "base_uri": "https://localhost:8080/"
        },
        "id": "izHfrZBKXPhi",
        "outputId": "42508426-fbe6-4e52-ed58-b7eed363e1b5"
      },
      "source": [
        "df.isna().sum()"
      ],
      "execution_count": 35,
      "outputs": [
        {
          "output_type": "execute_result",
          "data": {
            "text/plain": [
              "Name          0\n",
              "Price         0\n",
              "24H           0\n",
              "7D            0\n",
              "24H Volume    0\n",
              "Market Cap    0\n",
              "dtype: int64"
            ]
          },
          "metadata": {},
          "execution_count": 35
        }
      ]
    },
    {
      "cell_type": "code",
      "metadata": {
        "id": "50QuoHa6bBUF"
      },
      "source": [
        ""
      ],
      "execution_count": null,
      "outputs": []
    }
  ]
}